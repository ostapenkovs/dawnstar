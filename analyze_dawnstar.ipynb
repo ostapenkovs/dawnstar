{
 "cells": [
  {
   "cell_type": "code",
   "execution_count": 9,
   "metadata": {},
   "outputs": [],
   "source": [
    "import pandas as pd\n",
    "import json"
   ]
  },
  {
   "cell_type": "code",
   "execution_count": 10,
   "metadata": {},
   "outputs": [],
   "source": [
    "data_folder = './data'\n",
    "res_fname = f'{data_folder}/result.txt'\n",
    "with open(res_fname, 'r') as f:\n",
    "    data = json.load(f)"
   ]
  },
  {
   "cell_type": "code",
   "execution_count": 11,
   "metadata": {},
   "outputs": [],
   "source": [
    "data = {(outerKey, innerKey): values for outerKey, innerDict in data.items() for innerKey, values in innerDict.items()}\n",
    "data = pd.DataFrame(data).T\n",
    "data.columns = ['date', 'status', 'status_detail']"
   ]
  },
  {
   "cell_type": "code",
   "execution_count": 12,
   "metadata": {},
   "outputs": [
    {
     "data": {
      "text/html": [
       "<div>\n",
       "<style scoped>\n",
       "    .dataframe tbody tr th:only-of-type {\n",
       "        vertical-align: middle;\n",
       "    }\n",
       "\n",
       "    .dataframe tbody tr th {\n",
       "        vertical-align: top;\n",
       "    }\n",
       "\n",
       "    .dataframe thead th {\n",
       "        text-align: right;\n",
       "    }\n",
       "</style>\n",
       "<table border=\"1\" class=\"dataframe\">\n",
       "  <thead>\n",
       "    <tr style=\"text-align: right;\">\n",
       "      <th></th>\n",
       "      <th></th>\n",
       "      <th>date</th>\n",
       "      <th>status</th>\n",
       "      <th>status_detail</th>\n",
       "    </tr>\n",
       "  </thead>\n",
       "  <tbody>\n",
       "    <tr>\n",
       "      <th rowspan=\"2\" valign=\"top\">CN(C)C(=N)N=C(N)N</th>\n",
       "      <th>US11503659B2</th>\n",
       "      <td>2041-01-15</td>\n",
       "      <td>Active</td>\n",
       "      <td>Anticipated expiration</td>\n",
       "    </tr>\n",
       "    <tr>\n",
       "      <th>US11485718B2</th>\n",
       "      <td>2041-03-25</td>\n",
       "      <td>Active</td>\n",
       "      <td>Anticipated expiration</td>\n",
       "    </tr>\n",
       "  </tbody>\n",
       "</table>\n",
       "</div>"
      ],
      "text/plain": [
       "                                      date  status           status_detail\n",
       "CN(C)C(=N)N=C(N)N US11503659B2  2041-01-15  Active  Anticipated expiration\n",
       "                  US11485718B2  2041-03-25  Active  Anticipated expiration"
      ]
     },
     "execution_count": 12,
     "metadata": {},
     "output_type": "execute_result"
    }
   ],
   "source": [
    "data[data.status_detail.notnull()].sort_values(by='date')"
   ]
  }
 ],
 "metadata": {
  "kernelspec": {
   "display_name": "dawnenv",
   "language": "python",
   "name": "python3"
  },
  "language_info": {
   "codemirror_mode": {
    "name": "ipython",
    "version": 3
   },
   "file_extension": ".py",
   "mimetype": "text/x-python",
   "name": "python",
   "nbconvert_exporter": "python",
   "pygments_lexer": "ipython3",
   "version": "3.11.0 | packaged by Anaconda, Inc. | (main, Mar  1 2023, 18:18:21) [MSC v.1916 64 bit (AMD64)]"
  },
  "orig_nbformat": 4,
  "vscode": {
   "interpreter": {
    "hash": "59f4bb288cd16d6415abd8fbad011797fb186218e02b0efc44690046d2ab96a9"
   }
  }
 },
 "nbformat": 4,
 "nbformat_minor": 2
}
