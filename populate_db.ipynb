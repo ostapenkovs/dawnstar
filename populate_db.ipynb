{
 "cells": [
  {
   "attachments": {},
   "cell_type": "markdown",
   "metadata": {},
   "source": [
    "Libraries"
   ]
  },
  {
   "cell_type": "code",
   "execution_count": 1,
   "metadata": {},
   "outputs": [],
   "source": [
    "import psycopg2\n",
    "from psycopg2.extensions import AsIs\n",
    "\n",
    "import glob\n",
    "import pandas as pd\n",
    "import io\n",
    "\n",
    "import time\n",
    "\n",
    "from rdkit import Chem, DataStructs\n",
    "from rdkit.Chem import AllChem\n",
    "from rdkit import RDLogger\n",
    "RDLogger.DisableLog('rdApp.*')\n",
    "\n",
    "import warnings\n",
    "warnings.filterwarnings('ignore')\n",
    "\n",
    "from secret import db_info"
   ]
  },
  {
   "attachments": {},
   "cell_type": "markdown",
   "metadata": {},
   "source": [
    "DB Connection"
   ]
  },
  {
   "cell_type": "code",
   "execution_count": 2,
   "metadata": {},
   "outputs": [],
   "source": [
    "schema_name = 'sc'\n",
    "\n",
    "conn = psycopg2.connect(**db_info)\n",
    "conn.autocommit = True\n",
    "\n",
    "curs = conn.cursor()\n",
    "curs.execute(f'set search_path to {schema_name}')"
   ]
  },
  {
   "attachments": {},
   "cell_type": "markdown",
   "metadata": {},
   "source": [
    "SureChembl Files"
   ]
  },
  {
   "cell_type": "code",
   "execution_count": 3,
   "metadata": {},
   "outputs": [],
   "source": [
    "data_folder = './sure_chembl_data/'\n",
    "files = glob.glob(data_folder + '*.txt.gz')\n",
    "\n",
    "### SUBSETTING TO JUST TWO FILES TO POPULATE THE DB ###\n",
    "    # 1 FILE, WHICH IS ABOUT 100MB ON AVERAGE, TAKES ABOUT 15 MIN TO PROCESS\n",
    "    # THE FIRST (OLDEST) FILE WILL BE AROUND 4.5 GB\n",
    "    # AND WE HAVE AROUND 30 FILES TOTAL\n",
    "files = files[2:4]\n",
    "###\n",
    "\n",
    "colnames = ['id', 'smiles', 'inchi_key', 'corpus_freq', 'patent_id', \\\n",
    "            'pub_date', 'field_type', 'field_freq']\n",
    "\n",
    "compound = 'compound'\n",
    "cmp_cols = ['id', 'smiles']\n",
    "\n",
    "patent = 'patent'\n",
    "pat_cols = ['patent_id', 'pub_date']\n",
    "\n",
    "field_freq = 'field_freq'\n",
    "fld_cols = ['id', 'patent_id', 'field_type', 'field_freq']"
   ]
  },
  {
   "attachments": {},
   "cell_type": "markdown",
   "metadata": {},
   "source": [
    "Populating DB"
   ]
  },
  {
   "cell_type": "code",
   "execution_count": 4,
   "metadata": {},
   "outputs": [
    {
     "name": "stdout",
     "output_type": "stream",
     "text": [
      "Compounds took 0.3941783905029297 seconds.\n",
      "Patents took 0.06399297714233398 seconds.\n",
      "Field freqs took 0.012002944946289062 seconds.\n",
      "Processed file number 1.\n"
     ]
    }
   ],
   "source": [
    "import numpy as np\n",
    "np.random.seed(42)\n",
    "\n",
    "for f_idx, f in enumerate(files):\n",
    "    ###\n",
    "    # read one file\n",
    "    df = pd.read_csv(f, header=None, sep='\\t').sample(500) #!!!!!!!!!!!!!!!!!!!!!!!!!!!!\n",
    "    df.columns = colnames\n",
    "\n",
    "    # filter the file\n",
    "    df = df.drop(['inchi_key', 'corpus_freq'], axis=1)\n",
    "    df['id'] = df.id.apply(lambda x: x.split('SCHEMBL')[1]).astype(int)\n",
    "    df['patent_id'] = df.patent_id.apply(lambda x: ''.join(x.split('-')))\n",
    "    df = df[df.patent_id.str[0:2] == 'US']\n",
    "    ###\n",
    "\n",
    "    ###\n",
    "    container = dict()\n",
    "    for tbl, cols in zip([compound, patent, field_freq], [cmp_cols, pat_cols, fld_cols]):\n",
    "        container[tbl] = df[cols].drop_duplicates(cols[:-1])\n",
    "    df = None\n",
    "    ###\n",
    "\n",
    "    ###\n",
    "    # upserting compounds\n",
    "    start = time.time()\n",
    "    invalid_compounds = []\n",
    "    i_idx = 0\n",
    "    for id, smi in zip(container[compound].id, container[compound].smiles):\n",
    "        if i_idx % 50000 == 0 and i_idx > 0:\n",
    "            print(f'Processed {i_idx} compounds.')\n",
    "        \n",
    "        m = Chem.MolFromSmiles(smi)\n",
    "        if not m: \n",
    "            invalid_compounds.append(id)\n",
    "            continue\n",
    "        can_smi = Chem.MolToSmiles(m, canonical=True)\n",
    "        if not can_smi: \n",
    "            invalid_compounds.append(id)\n",
    "            continue\n",
    "        b_mfp = DataStructs.BitVectToBinaryText( AllChem.GetMorganFingerprintAsBitVect(m, 2, nBits=1024) )\n",
    "\n",
    "        try:\n",
    "            curs.execute('insert into %(tbl)s values (%(id)s, %(smi)s::mol, bfp_from_binary_text(%(mfp)s)) \\\n",
    "                on conflict (id) do update set smiles = excluded.smiles, mfp = excluded.mfp',\n",
    "                {'tbl': AsIs(compound), 'id': id, 'smi': can_smi, 'mfp': b_mfp})\n",
    "            \n",
    "        except Exception as e:\n",
    "            print(e)\n",
    "            invalid_compounds.append(id)\n",
    "        \n",
    "        m = can_smi = b_mfp = None\n",
    "        i_idx += 1\n",
    "    \n",
    "    del container[compound]\n",
    "\n",
    "    if len(invalid_compounds) >= 1:\n",
    "        container[field_freq] = container[field_freq][ ~(container[field_freq].id.isin(invalid_compounds)) ]\n",
    "        container[patent] = container[patent][ (container[patent].patent_id.isin( container[field_freq].patent_id.unique().tolist() )) ]\n",
    "    invalid_compounds = None\n",
    "    \n",
    "    print(f'Compounds took {time.time() - start} seconds.')\n",
    "    ###\n",
    "    \n",
    "    ###\n",
    "    # upserting patents\n",
    "    start = time.time()\n",
    "    curs.execute(f'create table tmp_{patent} (like {patent} including defaults)')\n",
    "\n",
    "    buf = io.StringIO(container[patent].to_csv(index=False, header=True, sep=','))\n",
    "    del container[patent]\n",
    "    curs.copy_expert(sql=f\"copy tmp_{patent} (num, pub_date) from stdin with csv header delimiter as ','\", file=buf)\n",
    "    buf = None\n",
    "\n",
    "    curs.execute(f'insert into {patent} select * from tmp_{patent} on conflict (num) \\\n",
    "                 do update set pub_date = excluded.pub_date returning num, id')\n",
    "    \n",
    "    # need the patent map!\n",
    "    patent_map = {k: v for k, v in curs.fetchall()}\n",
    "\n",
    "    curs.execute(f'drop table tmp_{patent}')\n",
    "    container[field_freq]['patent_id'] = container[field_freq].patent_id.map(patent_map)\n",
    "    patent_map = None\n",
    "\n",
    "    print(f'Patents took {time.time() - start} seconds.')\n",
    "    ###\n",
    "\n",
    "    ###\n",
    "    # upserting field frequencies\n",
    "    start = time.time()\n",
    "\n",
    "    curs.execute(f'create table tmp_{field_freq} (like {field_freq} including defaults)')\n",
    "\n",
    "    buf = io.StringIO(container[field_freq].to_csv(index=False, header=True, sep=','))\n",
    "    del container[field_freq]\n",
    "    curs.copy_expert(sql=f\"copy tmp_{field_freq} from stdin with csv header delimiter as ','\", file=buf)\n",
    "    buf = None\n",
    "\n",
    "    curs.execute(f'insert into {field_freq} select * from tmp_{field_freq} on conflict (compound_id, patent_id, field_id) \\\n",
    "                 do update set freq = excluded.freq')\n",
    "    curs.execute(f'drop table tmp_{field_freq}')\n",
    "\n",
    "    print(f'Field freqs took {time.time() - start} seconds.')\n",
    "    ###\n",
    "\n",
    "    print(f'Processed file number {f_idx + 1}.')\n",
    "\n",
    "    break"
   ]
  },
  {
   "attachments": {},
   "cell_type": "markdown",
   "metadata": {},
   "source": [
    "Creating Indices"
   ]
  },
  {
   "cell_type": "code",
   "execution_count": 5,
   "metadata": {},
   "outputs": [],
   "source": [
    "curs.execute('create index smi_idx on compound using gist(smiles)')\n",
    "curs.execute('create index mfp_idx on compound using gist(mfp)')"
   ]
  },
  {
   "attachments": {},
   "cell_type": "markdown",
   "metadata": {},
   "source": [
    "Testing Similarity and Substructure Searching"
   ]
  },
  {
   "cell_type": "code",
   "execution_count": 9,
   "metadata": {},
   "outputs": [],
   "source": [
    "s = 'CCC'\n",
    "\n",
    "curs.execute('select c.id, mol_to_smiles(c.smiles), p.num from compound c, patent p, field_freq f \\\n",
    "             where c.id = f.compound_id and p.id = f.patent_id \\\n",
    "             and c.smiles@>%s', (s, ))\n",
    "\n",
    "r = curs.fetchall()"
   ]
  },
  {
   "cell_type": "code",
   "execution_count": 11,
   "metadata": {},
   "outputs": [
    {
     "data": {
      "text/html": [
       "<div>\n",
       "<style scoped>\n",
       "    .dataframe tbody tr th:only-of-type {\n",
       "        vertical-align: middle;\n",
       "    }\n",
       "\n",
       "    .dataframe tbody tr th {\n",
       "        vertical-align: top;\n",
       "    }\n",
       "\n",
       "    .dataframe thead th {\n",
       "        text-align: right;\n",
       "    }\n",
       "</style>\n",
       "<table border=\"1\" class=\"dataframe\">\n",
       "  <thead>\n",
       "    <tr style=\"text-align: right;\">\n",
       "      <th></th>\n",
       "      <th>0</th>\n",
       "      <th>1</th>\n",
       "      <th>2</th>\n",
       "    </tr>\n",
       "  </thead>\n",
       "  <tbody>\n",
       "    <tr>\n",
       "      <th>203</th>\n",
       "      <td>116666</td>\n",
       "      <td>CCOP(=S)(OCC)Oc1ccc2c3c(c(=O)oc2c1)CCCC3</td>\n",
       "      <td>US20150111732A1</td>\n",
       "    </tr>\n",
       "    <tr>\n",
       "      <th>37</th>\n",
       "      <td>2929</td>\n",
       "      <td>Nc1ncnc2c1ncn2[C@@H]1O[C@H](CO)[C@@H](O)[C@@H]...</td>\n",
       "      <td>US9067884B2</td>\n",
       "    </tr>\n",
       "    <tr>\n",
       "      <th>165</th>\n",
       "      <td>539210</td>\n",
       "      <td>COC(=O)[C@@H](N)Cc1ccc(-c2ccc(C)cc2)cc1</td>\n",
       "      <td>US20150148539A1</td>\n",
       "    </tr>\n",
       "    <tr>\n",
       "      <th>88</th>\n",
       "      <td>16737003</td>\n",
       "      <td>C=C(C)C(=O)OC1CC2CC1C1C(=O)OC(=O)C21</td>\n",
       "      <td>US20150147698A1</td>\n",
       "    </tr>\n",
       "    <tr>\n",
       "      <th>128</th>\n",
       "      <td>16583</td>\n",
       "      <td>CCC1(c2ccccc2)C(=O)NC(=O)NC1=O</td>\n",
       "      <td>US20150105336A1</td>\n",
       "    </tr>\n",
       "  </tbody>\n",
       "</table>\n",
       "</div>"
      ],
      "text/plain": [
       "            0                                                  1  \\\n",
       "203    116666           CCOP(=S)(OCC)Oc1ccc2c3c(c(=O)oc2c1)CCCC3   \n",
       "37       2929  Nc1ncnc2c1ncn2[C@@H]1O[C@H](CO)[C@@H](O)[C@@H]...   \n",
       "165    539210            COC(=O)[C@@H](N)Cc1ccc(-c2ccc(C)cc2)cc1   \n",
       "88   16737003               C=C(C)C(=O)OC1CC2CC1C1C(=O)OC(=O)C21   \n",
       "128     16583                     CCC1(c2ccccc2)C(=O)NC(=O)NC1=O   \n",
       "\n",
       "                   2  \n",
       "203  US20150111732A1  \n",
       "37       US9067884B2  \n",
       "165  US20150148539A1  \n",
       "88   US20150147698A1  \n",
       "128  US20150105336A1  "
      ]
     },
     "execution_count": 11,
     "metadata": {},
     "output_type": "execute_result"
    }
   ],
   "source": [
    "pd.DataFrame(r).sample(5)"
   ]
  },
  {
   "cell_type": "code",
   "execution_count": 16,
   "metadata": {},
   "outputs": [],
   "source": [
    "s = 'CC(=O)CCC'\n",
    "m = Chem.MolFromSmiles(s)\n",
    "b_mfp = DataStructs.BitVectToBinaryText( AllChem.GetMorganFingerprintAsBitVect(m, 2, nBits=1024) )\n",
    "\n",
    "curs.execute('set rdkit.tanimoto_threshold=0.30')\n",
    "curs.execute('select c.id, mol_to_smiles(c.smiles), p.num from compound c, patent p, field_freq f \\\n",
    "             where c.id = f.compound_id and p.id = f.patent_id \\\n",
    "             and c.mfp%%bfp_from_binary_text(%s)', (b_mfp, ))\n",
    "\n",
    "r = curs.fetchall()"
   ]
  },
  {
   "cell_type": "code",
   "execution_count": 17,
   "metadata": {},
   "outputs": [
    {
     "data": {
      "text/html": [
       "<div>\n",
       "<style scoped>\n",
       "    .dataframe tbody tr th:only-of-type {\n",
       "        vertical-align: middle;\n",
       "    }\n",
       "\n",
       "    .dataframe tbody tr th {\n",
       "        vertical-align: top;\n",
       "    }\n",
       "\n",
       "    .dataframe thead th {\n",
       "        text-align: right;\n",
       "    }\n",
       "</style>\n",
       "<table border=\"1\" class=\"dataframe\">\n",
       "  <thead>\n",
       "    <tr style=\"text-align: right;\">\n",
       "      <th></th>\n",
       "      <th>0</th>\n",
       "      <th>1</th>\n",
       "      <th>2</th>\n",
       "    </tr>\n",
       "  </thead>\n",
       "  <tbody>\n",
       "    <tr>\n",
       "      <th>0</th>\n",
       "      <td>2371</td>\n",
       "      <td>CCCCCCCCCCCCCCCCCC(=O)[O-].CCCCCCCCCCCCCCCCCC(...</td>\n",
       "      <td>US20150111873A1</td>\n",
       "    </tr>\n",
       "    <tr>\n",
       "      <th>6</th>\n",
       "      <td>2372</td>\n",
       "      <td>CCCCCCCCCCCCCCCCCC(=O)O.[Ca]</td>\n",
       "      <td>US20150105418A1</td>\n",
       "    </tr>\n",
       "    <tr>\n",
       "      <th>2</th>\n",
       "      <td>21569</td>\n",
       "      <td>C=C(CCCCCC)C(=O)O</td>\n",
       "      <td>US9050270B2</td>\n",
       "    </tr>\n",
       "    <tr>\n",
       "      <th>4</th>\n",
       "      <td>1346</td>\n",
       "      <td>CC(=O)CCc1ccccc1</td>\n",
       "      <td>US20150132413A1</td>\n",
       "    </tr>\n",
       "    <tr>\n",
       "      <th>5</th>\n",
       "      <td>5895</td>\n",
       "      <td>CCCCCCCCCCCC(=O)O</td>\n",
       "      <td>US9012479B2</td>\n",
       "    </tr>\n",
       "  </tbody>\n",
       "</table>\n",
       "</div>"
      ],
      "text/plain": [
       "       0                                                  1                2\n",
       "0   2371  CCCCCCCCCCCCCCCCCC(=O)[O-].CCCCCCCCCCCCCCCCCC(...  US20150111873A1\n",
       "6   2372                       CCCCCCCCCCCCCCCCCC(=O)O.[Ca]  US20150105418A1\n",
       "2  21569                                  C=C(CCCCCC)C(=O)O      US9050270B2\n",
       "4   1346                                   CC(=O)CCc1ccccc1  US20150132413A1\n",
       "5   5895                                  CCCCCCCCCCCC(=O)O      US9012479B2"
      ]
     },
     "execution_count": 17,
     "metadata": {},
     "output_type": "execute_result"
    }
   ],
   "source": [
    "pd.DataFrame(r).sample(5)"
   ]
  },
  {
   "attachments": {},
   "cell_type": "markdown",
   "metadata": {},
   "source": [
    "Close DB Connection"
   ]
  },
  {
   "cell_type": "code",
   "execution_count": 18,
   "metadata": {},
   "outputs": [],
   "source": [
    "curs.close()\n",
    "conn.close()"
   ]
  }
 ],
 "metadata": {
  "kernelspec": {
   "display_name": "dawnenv",
   "language": "python",
   "name": "python3"
  },
  "language_info": {
   "codemirror_mode": {
    "name": "ipython",
    "version": 3
   },
   "file_extension": ".py",
   "mimetype": "text/x-python",
   "name": "python",
   "nbconvert_exporter": "python",
   "pygments_lexer": "ipython3",
   "version": "3.11.0"
  },
  "orig_nbformat": 4,
  "vscode": {
   "interpreter": {
    "hash": "59f4bb288cd16d6415abd8fbad011797fb186218e02b0efc44690046d2ab96a9"
   }
  }
 },
 "nbformat": 4,
 "nbformat_minor": 2
}
